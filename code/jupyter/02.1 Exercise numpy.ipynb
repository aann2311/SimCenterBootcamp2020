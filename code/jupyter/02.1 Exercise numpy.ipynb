{
 "cells": [
  {
   "cell_type": "markdown",
   "metadata": {},
   "source": [
    "# Exercise 2: numpy"
   ]
  },
  {
   "cell_type": "code",
   "execution_count": 1,
   "metadata": {},
   "outputs": [],
   "source": [
    "import numpy as np"
   ]
  },
  {
   "cell_type": "markdown",
   "metadata": {},
   "source": [
    "## Problem 1: \n",
    "\n",
    "Compute\n",
    "$$\n",
    "   \\left[ \\begin{array}{ccc}\n",
    "   3 &  2 & 1 \\\\\n",
    "   6 & -3 & 0 \\\\\n",
    "   1 &  2 & 9 \\\\\n",
    "   \\end{array} \\right]\n",
    "   \\left[ \\begin{array}{ccc}\n",
    "   -4 & 1 \\\\\n",
    "    7 & 3 \\\\\n",
    "    2 & 5 \\\\\n",
    "   \\end{array} \\right]\n",
    "$$\n",
    "using **matrix** objects"
   ]
  },
  {
   "cell_type": "code",
   "execution_count": 8,
   "metadata": {},
   "outputs": [
    {
     "name": "stdout",
     "output_type": "stream",
     "text": [
      "[[  4  14]\n",
      " [-45  -3]\n",
      " [ 28  52]]\n"
     ]
    }
   ],
   "source": [
    "################\n",
    "# your solution\n",
    "################\n",
    "\n",
    "A = np.matrix([[3,2,1],[6,-3,0],[1,2,9]])\n",
    "B = np.matrix([[-4,1],[7,3],[2,5]])\n",
    "C = A*B\n",
    "\n",
    "print(C)"
   ]
  },
  {
   "cell_type": "markdown",
   "metadata": {},
   "source": [
    "Compute\n",
    "$$\n",
    "   \\left[ \\begin{array}{ccc}\n",
    "   3 &  2 & 1 \\\\\n",
    "   6 & -3 & 0 \\\\\n",
    "   1 &  2 & 9 \\\\\n",
    "   \\end{array} \\right]\n",
    "   \\left[ \\begin{array}{ccc}\n",
    "   -4 & 1 \\\\\n",
    "    7 & 3 \\\\\n",
    "    2 & 5 \\\\\n",
    "   \\end{array} \\right]\n",
    "$$\n",
    "using **array** objects"
   ]
  },
  {
   "cell_type": "code",
   "execution_count": 11,
   "metadata": {},
   "outputs": [
    {
     "name": "stdout",
     "output_type": "stream",
     "text": [
      "[[  4  14]\n",
      " [-45  -3]\n",
      " [ 28  52]]\n"
     ]
    }
   ],
   "source": [
    "D = np.array(A)\n",
    "E = np.array(B)\n",
    "F = D@E\n",
    "\n",
    "print(F)"
   ]
  },
  {
   "cell_type": "markdown",
   "metadata": {},
   "source": [
    "## Problem 2: \n",
    "\n",
    "Numpy provides random number generators for different distributions.\n",
    "You can find simple examples at [https://numpy.org/doc/stable/reference/random/index.html](https://numpy.org/doc/stable/reference/random/index.html)\n",
    "\n",
    "1. Write a function that outputs a list of 250 numbers in a normal distribution with (approximately) mean of 2.5 and standard deviation of 0.75. (check [https://numpy.org/doc/stable/reference/random/generated/numpy.random.normal.html#numpy.random.normal](https://numpy.org/doc/stable/reference/random/generated/numpy.random.normal.html#numpy.random.normal))\n",
    "2. Write a loop that uses this function to create 10 instances of such lists. Compute the actual mean and standard deviation and print them.\n",
    "3. Verify that the answers are indeed random by running your code multiple times."
   ]
  },
  {
   "cell_type": "code",
   "execution_count": 20,
   "metadata": {},
   "outputs": [
    {
     "name": "stdout",
     "output_type": "stream",
     "text": [
      "Average =              2.55293, Max=              4.71759, STDEV =              0.75524\n",
      "Average =              2.55842, Max=              4.46779, STDEV =              0.76655\n",
      "Average =              2.50248, Max=              5.57394, STDEV =              0.79070\n",
      "Average =              2.49388, Max=              4.36994, STDEV =              0.76771\n",
      "Average =              2.56274, Max=              4.52398, STDEV =              0.70195\n",
      "Average =              2.52821, Max=              4.65025, STDEV =              0.77409\n",
      "Average =              2.53779, Max=              4.65542, STDEV =              0.73504\n",
      "Average =              2.47507, Max=              5.00047, STDEV =              0.75709\n",
      "Average =              2.47415, Max=              4.62575, STDEV =              0.76072\n",
      "Average =              2.53937, Max=              5.14643, STDEV =              0.76209\n"
     ]
    }
   ],
   "source": [
    "################\n",
    "# My Solution\n",
    "import numpy \n",
    "\n",
    "def List():\n",
    "    return numpy.random.normal(2.5, 0.75, 250)\n",
    "\n",
    "for i in range(10):\n",
    "    data = List()\n",
    "    print(\"Average = {:20.5f}, Max= {:20.5f}, STDEV = {:20.5f}\".format(np.mean(data),np.max(data),np.std(data)))\n",
    "\n",
    "################\n"
   ]
  },
  {
   "cell_type": "markdown",
   "metadata": {},
   "source": [
    "## Problem 3: \n",
    "\n",
    "1. Compute and print the eigenvalues, $\\lambda_i$, and eigenvectors, ${\\bf n}_i$, of\n",
    "$$\n",
    "   {\\bf A} =\n",
    "   \\left[ \\begin{array}{ccccc}\n",
    "   3 & 2 & 1 & 0 & 0 \\\\\n",
    "   2 & 3 & 2 & 1 & 0 \\\\\n",
    "   1 & 2 & 3 & 2 & 1 \\\\\n",
    "   0 & 1 & 2 & 3 & 2 \\\\\n",
    "   0 & 0 & 1 & 2 & 3 \n",
    "   \\end{array} \\right]\n",
    "$$\n",
    "2. Show that\n",
    "$$\n",
    "   {\\rm det}({\\bf A}) = \\prod_{i=1}^5 \\lambda_i\n",
    "$$\n",
    "3. Verify the following relation\n",
    "$$\n",
    "   {\\bf A} = \\sum_{i=1}^{5} \\lambda_i\\,{\\bf n}_i\\otimes{\\bf n}_i\n",
    "$$"
   ]
  },
  {
   "cell_type": "code",
   "execution_count": 33,
   "metadata": {},
   "outputs": [
    {
     "name": "stdout",
     "output_type": "stream",
     "text": [
      "EigneValue = 0.598 with EigenVector = [ 0.10280135 -0.48200442  0.71708245 -0.48200442  0.10280135]\n",
      "EigneValue = 0.598 with EigenVector = [ 0.10280135 -0.48200442  0.71708245 -0.48200442  0.10280135]\n",
      "EigneValue = 0.598 with EigenVector = [ 0.10280135 -0.48200442  0.71708245 -0.48200442  0.10280135]\n",
      "EigneValue = 0.598 with EigenVector = [ 0.10280135 -0.48200442  0.71708245 -0.48200442  0.10280135]\n",
      "EigneValue = 0.598 with EigenVector = [ 0.10280135 -0.48200442  0.71708245 -0.48200442  0.10280135]\n"
     ]
    }
   ],
   "source": [
    "################\n",
    "A = np.array([[3,2,1,0,0],[2,3,2,1,0],[1,2,3,2,1],[0,1,2,3,2],[0,0,1,2,3]])\n",
    "\n",
    "(lam,v) = np.linalg.eig(A)\n",
    "################\n",
    "\n",
    "for i in range(5):\n",
    "    EigenValue = lam[i]\n",
    "    EigenVector = v[:,i]\n",
    "    print(\"EigneValue = {:0.3f} with EigenVector = {}\".format(lami,ni))"
   ]
  },
  {
   "cell_type": "code",
   "execution_count": null,
   "metadata": {},
   "outputs": [],
   "source": [
    "B = np.zeros((5,5))\n",
    "for i in range(5):\n",
    "    ni = v[:,i]\n",
    "    B += lam[i] * np.outer(ni,ni)\n",
    "    \n",
    "print(np.linalg.norm(A),np.linalg.norm(B),np.linalg.norm(A-B))"
   ]
  }
 ],
 "metadata": {
  "kernelspec": {
   "display_name": "Python 3",
   "language": "python",
   "name": "python3"
  },
  "language_info": {
   "codemirror_mode": {
    "name": "ipython",
    "version": 3
   },
   "file_extension": ".py",
   "mimetype": "text/x-python",
   "name": "python",
   "nbconvert_exporter": "python",
   "pygments_lexer": "ipython3",
   "version": "3.7.8"
  }
 },
 "nbformat": 4,
 "nbformat_minor": 4
}
